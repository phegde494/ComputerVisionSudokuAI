{
 "cells": [
  {
   "cell_type": "code",
   "execution_count": 2,
   "id": "6c53d564",
   "metadata": {},
   "outputs": [],
   "source": [
    "import tensorflow as tf\n",
    "from tensorflow import keras\n",
    "from tensorflow.keras import layers\n",
    "import cv2\n",
    "import numpy as np\n",
    "import sys\n",
    "import matplotlib.pyplot as plt"
   ]
  },
  {
   "cell_type": "markdown",
   "id": "7df27a1b",
   "metadata": {},
   "source": [
    "After importing the required libraries, we next load the MNIST data set to train our digit recognition model\n",
    "This dataset has thousands of 28x28 black and white digit images."
   ]
  },
  {
   "cell_type": "code",
   "execution_count": 4,
   "id": "094785a9",
   "metadata": {},
   "outputs": [],
   "source": [
    "(x_train, y_train), (x_test, y_test) = keras.datasets.mnist.load_data()\n",
    "\n",
    "# Normalize pixel vals to doubles in range [0, 1]\n",
    "\n",
    "x_train = x_train.reshape(-1, 28, 28, 1).astype('float32') / 255.0\n",
    "x_test = x_test.reshape(-1, 28, 28, 1).astype('float32') / 255.0\n",
    "num_classes = 10\n",
    "y_train = keras.utils.to_categorical(y_train, num_classes)\n",
    "y_test = keras.utils.to_categorical(y_test, num_classes)"
   ]
  },
  {
   "cell_type": "markdown",
   "id": "b1264d15",
   "metadata": {},
   "source": [
    "Next, we define our digit recognition model to take in 28x28 pixel images\n",
    "The ReLU function optimizes the hidden layer while Softmax optimizes the output layer (good for multi-class classification)"
   ]
  },
  {
   "cell_type": "code",
   "execution_count": 6,
   "id": "f188cd1d",
   "metadata": {},
   "outputs": [],
   "source": [
    "digit_recognition_model = keras.Sequential([\n",
    "    layers.Conv2D(32, (3, 3), activation='relu', input_shape=(28, 28, 1)),\n",
    "    layers.BatchNormalization(),\n",
    "    layers.Conv2D(64, (3, 3), activation='relu'),\n",
    "    layers.BatchNormalization(),\n",
    "    layers.MaxPooling2D(pool_size=(2, 2)),\n",
    "    layers.Dropout(0.25),\n",
    "    layers.Flatten(),\n",
    "    layers.Dense(128, activation='relu'),\n",
    "    layers.BatchNormalization(),\n",
    "    layers.Dropout(0.5),\n",
    "    layers.Dense(num_classes, activation='softmax')\n",
    "])"
   ]
  },
  {
   "cell_type": "markdown",
   "id": "13296252",
   "metadata": {},
   "source": [
    "Finally, we can train the model and save the final product."
   ]
  },
  {
   "cell_type": "code",
   "execution_count": 4,
   "id": "be05aae8",
   "metadata": {},
   "outputs": [
    {
     "name": "stdout",
     "output_type": "stream",
     "text": [
      "Epoch 1/50\n",
      "469/469 [==============================] - 42s 88ms/step - loss: 0.1582 - accuracy: 0.9535 - val_loss: 0.4076 - val_accuracy: 0.8851 - lr: 0.0010\n",
      "Epoch 2/50\n",
      "469/469 [==============================] - 43s 91ms/step - loss: 0.0616 - accuracy: 0.9817 - val_loss: 0.0561 - val_accuracy: 0.9819 - lr: 0.0010\n",
      "Epoch 3/50\n",
      "469/469 [==============================] - 43s 93ms/step - loss: 0.0476 - accuracy: 0.9854 - val_loss: 0.0370 - val_accuracy: 0.9878 - lr: 0.0010\n",
      "Epoch 4/50\n",
      "469/469 [==============================] - 43s 91ms/step - loss: 0.0385 - accuracy: 0.9884 - val_loss: 0.0327 - val_accuracy: 0.9890 - lr: 0.0010\n",
      "Epoch 5/50\n",
      "469/469 [==============================] - 44s 94ms/step - loss: 0.0311 - accuracy: 0.9902 - val_loss: 0.0424 - val_accuracy: 0.9864 - lr: 0.0010\n",
      "Epoch 6/50\n",
      "469/469 [==============================] - 44s 93ms/step - loss: 0.0315 - accuracy: 0.9900 - val_loss: 0.0303 - val_accuracy: 0.9891 - lr: 0.0010\n",
      "Epoch 7/50\n",
      "469/469 [==============================] - 40s 86ms/step - loss: 0.0250 - accuracy: 0.9920 - val_loss: 0.0352 - val_accuracy: 0.9896 - lr: 0.0010\n",
      "Epoch 8/50\n",
      "469/469 [==============================] - 41s 88ms/step - loss: 0.0213 - accuracy: 0.9930 - val_loss: 0.0328 - val_accuracy: 0.9892 - lr: 0.0010\n",
      "Epoch 9/50\n",
      "469/469 [==============================] - ETA: 0s - loss: 0.0190 - accuracy: 0.9940\n",
      "Epoch 9: ReduceLROnPlateau reducing learning rate to 0.00010000000474974513.\n",
      "469/469 [==============================] - 43s 91ms/step - loss: 0.0190 - accuracy: 0.9940 - val_loss: 0.0362 - val_accuracy: 0.9889 - lr: 0.0010\n",
      "Epoch 10/50\n",
      "469/469 [==============================] - 43s 92ms/step - loss: 0.0139 - accuracy: 0.9955 - val_loss: 0.0244 - val_accuracy: 0.9924 - lr: 1.0000e-04\n",
      "Epoch 11/50\n",
      "469/469 [==============================] - 43s 91ms/step - loss: 0.0104 - accuracy: 0.9967 - val_loss: 0.0247 - val_accuracy: 0.9926 - lr: 1.0000e-04\n",
      "Epoch 12/50\n",
      "469/469 [==============================] - 45s 96ms/step - loss: 0.0086 - accuracy: 0.9974 - val_loss: 0.0246 - val_accuracy: 0.9924 - lr: 1.0000e-04\n",
      "Epoch 13/50\n",
      "469/469 [==============================] - ETA: 0s - loss: 0.0072 - accuracy: 0.9979\n",
      "Epoch 13: ReduceLROnPlateau reducing learning rate to 1.0000000474974514e-05.\n",
      "469/469 [==============================] - 43s 91ms/step - loss: 0.0072 - accuracy: 0.9979 - val_loss: 0.0248 - val_accuracy: 0.9922 - lr: 1.0000e-04\n",
      "Epoch 14/50\n",
      "469/469 [==============================] - 42s 89ms/step - loss: 0.0073 - accuracy: 0.9976 - val_loss: 0.0247 - val_accuracy: 0.9921 - lr: 1.0000e-05\n",
      "Epoch 15/50\n",
      "469/469 [==============================] - 42s 90ms/step - loss: 0.0073 - accuracy: 0.9978 - val_loss: 0.0245 - val_accuracy: 0.9920 - lr: 1.0000e-05\n",
      "Epoch 16/50\n",
      "469/469 [==============================] - ETA: 0s - loss: 0.0068 - accuracy: 0.9982\n",
      "Epoch 16: ReduceLROnPlateau reducing learning rate to 1.0000000656873453e-06.\n",
      "469/469 [==============================] - 41s 88ms/step - loss: 0.0068 - accuracy: 0.9982 - val_loss: 0.0244 - val_accuracy: 0.9921 - lr: 1.0000e-05\n",
      "Epoch 17/50\n",
      "469/469 [==============================] - 41s 88ms/step - loss: 0.0065 - accuracy: 0.9979 - val_loss: 0.0244 - val_accuracy: 0.9921 - lr: 1.0000e-06\n",
      "Epoch 18/50\n",
      "469/469 [==============================] - 41s 87ms/step - loss: 0.0064 - accuracy: 0.9980 - val_loss: 0.0245 - val_accuracy: 0.9920 - lr: 1.0000e-06\n",
      "Epoch 19/50\n",
      "469/469 [==============================] - ETA: 0s - loss: 0.0065 - accuracy: 0.9983\n",
      "Epoch 19: ReduceLROnPlateau reducing learning rate to 1.0000001111620805e-07.\n",
      "469/469 [==============================] - 42s 89ms/step - loss: 0.0065 - accuracy: 0.9983 - val_loss: 0.0244 - val_accuracy: 0.9920 - lr: 1.0000e-06\n",
      "Epoch 20/50\n",
      "469/469 [==============================] - 41s 87ms/step - loss: 0.0067 - accuracy: 0.9981 - val_loss: 0.0244 - val_accuracy: 0.9921 - lr: 1.0000e-07\n",
      "313/313 [==============================] - 2s 8ms/step - loss: 0.0244 - accuracy: 0.9924\n",
      "Test Loss: 0.02436276711523533\n",
      "Test Accuracy: 0.9923999905586243\n",
      "(None, 28, 28, 1)\n"
     ]
    }
   ],
   "source": [
    "# Train model \n",
    "digit_recognition_model.compile(optimizer='adam', loss='categorical_crossentropy', metrics=['accuracy'])\n",
    "\n",
    "early_stopping = keras.callbacks.EarlyStopping(monitor='val_loss', patience=10, restore_best_weights=True)\n",
    "reduce_lr = keras.callbacks.ReduceLROnPlateau(monitor='val_loss', factor=0.1, patience=3, verbose=1)\n",
    "\n",
    "batch_size = 128\n",
    "epochs = 20\n",
    "digit_recognition_model.fit(\n",
    "    x_train, y_train,\n",
    "    batch_size=batch_size,\n",
    "    epochs=epochs,\n",
    "    validation_data=(x_test, y_test),\n",
    "    callbacks=[early_stopping, reduce_lr]\n",
    ")\n",
    "test_loss, test_accuracy = digit_recognition_model.evaluate(x_test, y_test)\n",
    "\n",
    "digit_recognition_model.save(\"trained_digit_model.h5\")\n",
    "\n",
    "print('Test Loss:', test_loss)\n",
    "print('Test Accuracy:', test_accuracy)\n",
    "print(digit_recognition_model.input_shape)"
   ]
  },
  {
   "cell_type": "markdown",
   "id": "d5ea27a0",
   "metadata": {},
   "source": [
    "Now, let's try running our model on the following example digit image:"
   ]
  },
  {
   "attachments": {
    "digit2.jpg": {
     "image/jpeg": "[encoded data removed]"
    }
   },
   "cell_type": "markdown",
   "id": "ea38847f",
   "metadata": {},
   "source": [
    "![digit2.jpg](attachment:digit2.jpg)"
   ]
  },
  {
   "cell_type": "code",
   "execution_count": 5,
   "id": "71c8cfab",
   "metadata": {},
   "outputs": [
    {
     "name": "stdout",
     "output_type": "stream",
     "text": [
      "(1, 28, 28, 1)\n"
     ]
    }
   ],
   "source": [
    "ex_img = cv2.imread('images/digit2.jpg')\n",
    "ex_img = cv2.cvtColor(ex_img, cv2.COLOR_BGR2GRAY)\n",
    "ex_img = cv2.resize(ex_img, (28, 28))\n",
    "ex_img = ex_img.astype('float32') / 255.0\n",
    "ex_img = np.reshape(ex_img, (1, 28, 28, 1))\n",
    "print (ex_img.shape)"
   ]
  },
  {
   "cell_type": "code",
   "execution_count": 6,
   "id": "2d6686f8",
   "metadata": {},
   "outputs": [
    {
     "name": "stdout",
     "output_type": "stream",
     "text": [
      "1/1 [==============================] - 0s 110ms/step\n",
      "[[2.2001387e-08 9.4310391e-09 9.9999988e-01 3.6452267e-08 2.0942670e-09\n",
      "  3.5546115e-11 7.8091346e-11 4.2853888e-08 4.8846484e-08 1.2023473e-09]]\n",
      "Classified digit is: 2\n"
     ]
    }
   ],
   "source": [
    "digit_probabilities = digit_recognition_model.predict(ex_img)\n",
    "\n",
    "print(digit_probabilities)\n",
    "\n",
    "digit = np.argmax(digit_probabilities)\n",
    "\n",
    "print(\"Classified digit is: \" + str(digit))\n"
   ]
  },
  {
   "cell_type": "markdown",
   "id": "fb0488f0",
   "metadata": {},
   "source": [
    "Next, let's try running it on another example digit image. This time, the image has been extracted from the board after our transformations."
   ]
  },
  {
   "cell_type": "code",
   "execution_count": 5,
   "id": "af6606ec",
   "metadata": {},
   "outputs": [
    {
     "name": "stdout",
     "output_type": "stream",
     "text": [
      "(1, 28, 28, 1)\n"
     ]
    },
    {
     "data": {
      "image/png": "[encoded data removed]",
      "text/plain": [
       "<Figure size 640x480 with 1 Axes>"
      ]
     },
     "metadata": {},
     "output_type": "display_data"
    }
   ],
   "source": [
    "ex_img2 = cv2.imread('../images/num7.jpg')\n",
    "\n",
    "ex_img2 = cv2.cvtColor(ex_img2, cv2.COLOR_BGR2GRAY)\n",
    "ex_img2 = cv2.resize(ex_img2, (28, 28))\n",
    "ex_img2 = ex_img2.astype('float32') / 255.0\n",
    "\n",
    "plt.imshow(ex_img2, cmap='Greys_r', interpolation='nearest')\n",
    "ex_img2 = np.reshape(ex_img2, (1, 28, 28, 1))\n",
    "\n",
    "print (ex_img2.shape)"
   ]
  },
  {
   "cell_type": "code",
   "execution_count": 8,
   "id": "ec49139f",
   "metadata": {},
   "outputs": [
    {
     "name": "stdout",
     "output_type": "stream",
     "text": [
      "1/1 [==============================] - 0s 16ms/step\n",
      "[[1.2776567e-07 2.0073880e-04 5.8373407e-06 3.8394443e-05 7.0651424e-08\n",
      "  1.8988273e-09 8.3512788e-09 9.9975389e-01 4.0830543e-07 5.0954088e-07]]\n",
      "Classified digit is: 7\n"
     ]
    }
   ],
   "source": [
    "digit_probabilities2 = digit_recognition_model.predict(ex_img2)\n",
    "\n",
    "print(digit_probabilities2)\n",
    "\n",
    "digit2 = np.argmax(digit_probabilities2)\n",
    "\n",
    "print(\"Classified digit is: \" + str(digit2))\n"
   ]
  }
 ],
 "metadata": {
  "kernelspec": {
   "display_name": "Python 3 (ipykernel)",
   "language": "python",
   "name": "python3"
  },
  "language_info": {
   "codemirror_mode": {
    "name": "ipython",
    "version": 3
   },
   "file_extension": ".py",
   "mimetype": "text/x-python",
   "name": "python",
   "nbconvert_exporter": "python",
   "pygments_lexer": "ipython3",
   "version": "3.9.13"
  }
 },
 "nbformat": 4,
 "nbformat_minor": 5
}
