{
 "cells": [
  {
   "cell_type": "code",
   "execution_count": 3,
   "id": "20437074",
   "metadata": {},
   "outputs": [],
   "source": [
    "import tensorflow as tf\n",
    "from tensorflow import keras"
   ]
  },
  {
   "cell_type": "markdown",
   "id": "de361066",
   "metadata": {},
   "source": [
    "After importing the required libraries, we next load the MNIST data set to train our digit recognition model\n",
    "This dataset has thousands of 28x28 black and white digit images."
   ]
  },
  {
   "cell_type": "code",
   "execution_count": 4,
   "id": "a90d378e",
   "metadata": {},
   "outputs": [],
   "source": [
    "(x_train, y_train), (x_test, y_test) = keras.datasets.mnist.load_data()\n",
    "# Normalize pixel vals to doubles in range [0, 1]\n",
    "x_train = x_train / 255.0\n",
    "x_test = x_test / 255.0"
   ]
  },
  {
   "cell_type": "markdown",
   "id": "b84122b4",
   "metadata": {},
   "source": [
    "Next, we define our digit recognition model to take in 28x28 pixel images\n",
    "The ReLU function optimizes the hidden layer while Softmax optimizes the output layer (good for multi-class classification)"
   ]
  },
  {
   "cell_type": "code",
   "execution_count": 7,
   "id": "f3c3bb97",
   "metadata": {},
   "outputs": [],
   "source": [
    "digit_recognition_model = keras.Sequential([\n",
    "    keras.layers.Flatten(input_shape=(28, 28)),\n",
    "    keras.layers.Dense(128, activation='relu'),\n",
    "    keras.layers.Dense(10, activation='softmax')\n",
    "])"
   ]
  },
  {
   "cell_type": "markdown",
   "id": "77d075d3",
   "metadata": {},
   "source": [
    "Finally, we can train the model and save the final product."
   ]
  },
  {
   "cell_type": "code",
   "execution_count": 8,
   "id": "58098c3e",
   "metadata": {},
   "outputs": [
    {
     "name": "stdout",
     "output_type": "stream",
     "text": [
      "Epoch 1/15\n",
      "1875/1875 [==============================] - 2s 934us/step - loss: 0.2553 - accuracy: 0.9268\n",
      "Epoch 2/15\n",
      "1875/1875 [==============================] - 2s 916us/step - loss: 0.1123 - accuracy: 0.9669\n",
      "Epoch 3/15\n",
      "1875/1875 [==============================] - 2s 899us/step - loss: 0.0778 - accuracy: 0.9765\n",
      "Epoch 4/15\n",
      "1875/1875 [==============================] - 2s 895us/step - loss: 0.0574 - accuracy: 0.9823\n",
      "Epoch 5/15\n",
      "1875/1875 [==============================] - 2s 896us/step - loss: 0.0443 - accuracy: 0.9861\n",
      "Epoch 6/15\n",
      "1875/1875 [==============================] - 2s 895us/step - loss: 0.0357 - accuracy: 0.9885\n",
      "Epoch 7/15\n",
      "1875/1875 [==============================] - 2s 898us/step - loss: 0.0272 - accuracy: 0.9915\n",
      "Epoch 8/15\n",
      "1875/1875 [==============================] - 2s 914us/step - loss: 0.0220 - accuracy: 0.9934\n",
      "Epoch 9/15\n",
      "1875/1875 [==============================] - 2s 906us/step - loss: 0.0188 - accuracy: 0.9942\n",
      "Epoch 10/15\n",
      "1875/1875 [==============================] - 2s 894us/step - loss: 0.0154 - accuracy: 0.9952\n",
      "Epoch 11/15\n",
      "1875/1875 [==============================] - 2s 895us/step - loss: 0.0126 - accuracy: 0.9962\n",
      "Epoch 12/15\n",
      "1875/1875 [==============================] - 2s 894us/step - loss: 0.0109 - accuracy: 0.9966\n",
      "Epoch 13/15\n",
      "1875/1875 [==============================] - 2s 898us/step - loss: 0.0101 - accuracy: 0.9968\n",
      "Epoch 14/15\n",
      "1875/1875 [==============================] - 2s 891us/step - loss: 0.0095 - accuracy: 0.9969\n",
      "Epoch 15/15\n",
      "1875/1875 [==============================] - 2s 894us/step - loss: 0.0067 - accuracy: 0.9982\n",
      "313/313 [==============================] - 0s 630us/step - loss: 0.0939 - accuracy: 0.9775\n",
      "Test Loss: 0.09387559443712234\n",
      "Test Accuracy: 0.9775000214576721\n",
      "(None, 28, 28)\n"
     ]
    }
   ],
   "source": [
    "# Train model \n",
    "digit_recognition_model.compile(optimizer='adam', loss='sparse_categorical_crossentropy', metrics=['accuracy'])\n",
    "\n",
    "# 15 epochs is near ideal for MNIST dataset\n",
    "digit_recognition_model.fit(x_train, y_train, epochs=15)\n",
    "\n",
    "test_loss, test_accuracy = digit_recognition_model.evaluate(x_test, y_test)\n",
    "\n",
    "digit_recognition_model.save(\"trained_digit_model.h5\")\n",
    "\n",
    "print('Test Loss:', test_loss)\n",
    "print('Test Accuracy:', test_accuracy)\n",
    "print(digit_recognition_model.input_shape)"
   ]
  },
  {
   "cell_type": "code",
   "execution_count": null,
   "id": "8724c43c",
   "metadata": {},
   "outputs": [],
   "source": []
  }
 ],
 "metadata": {
  "kernelspec": {
   "display_name": "Python 3 (ipykernel)",
   "language": "python",
   "name": "python3"
  },
  "language_info": {
   "codemirror_mode": {
    "name": "ipython",
    "version": 3
   },
   "file_extension": ".py",
   "mimetype": "text/x-python",
   "name": "python",
   "nbconvert_exporter": "python",
   "pygments_lexer": "ipython3",
   "version": "3.9.13"
  }
 },
 "nbformat": 4,
 "nbformat_minor": 5
}
