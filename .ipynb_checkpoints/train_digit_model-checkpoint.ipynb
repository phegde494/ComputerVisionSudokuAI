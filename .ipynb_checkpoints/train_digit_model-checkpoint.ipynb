{
 "cells": [
  {
   "cell_type": "code",
   "execution_count": 9,
   "id": "2baece1c",
   "metadata": {},
   "outputs": [],
   "source": [
    "import tensorflow as tf\n",
    "from tensorflow import keras\n",
    "import cv2\n",
    "import numpy as np"
   ]
  },
  {
   "cell_type": "markdown",
   "id": "07f83291",
   "metadata": {},
   "source": [
    "After importing the required libraries, we next load the MNIST data set to train our digit recognition model\n",
    "This dataset has thousands of 28x28 black and white digit images."
   ]
  },
  {
   "cell_type": "code",
   "execution_count": 3,
   "id": "3aac5ce6",
   "metadata": {},
   "outputs": [],
   "source": [
    "(x_train, y_train), (x_test, y_test) = keras.datasets.mnist.load_data()\n",
    "# Normalize pixel vals to doubles in range [0, 1]\n",
    "x_train = x_train / 255.0\n",
    "x_test = x_test / 255.0"
   ]
  },
  {
   "cell_type": "markdown",
   "id": "3da4c8b5",
   "metadata": {},
   "source": [
    "Next, we define our digit recognition model to take in 28x28 pixel images\n",
    "The ReLU function optimizes the hidden layer while Softmax optimizes the output layer (good for multi-class classification)"
   ]
  },
  {
   "cell_type": "code",
   "execution_count": 10,
   "id": "b95d0893",
   "metadata": {},
   "outputs": [],
   "source": [
    "digit_recognition_model = tf.keras.Sequential([\n",
    "    tf.keras.layers.Conv2D(32, (3, 3), activation='relu', input_shape=(28, 28, 1)),\n",
    "    tf.keras.layers.MaxPooling2D((2, 2)),\n",
    "    tf.keras.layers.Flatten(),\n",
    "    tf.keras.layers.Dense(64, activation='relu'),\n",
    "    tf.keras.layers.Dense(10, activation='softmax')\n",
    "])"
   ]
  },
  {
   "cell_type": "markdown",
   "id": "e431f275",
   "metadata": {},
   "source": [
    "Finally, we can train the model and save the final product."
   ]
  },
  {
   "cell_type": "code",
   "execution_count": 5,
   "id": "397bfc4a",
   "metadata": {},
   "outputs": [
    {
     "name": "stdout",
     "output_type": "stream",
     "text": [
      "Epoch 1/5\n",
      "1875/1875 [==============================] - 9s 5ms/step - loss: 0.1730 - accuracy: 0.9475\n",
      "Epoch 2/5\n",
      "1875/1875 [==============================] - 8s 4ms/step - loss: 0.0617 - accuracy: 0.9812\n",
      "Epoch 3/5\n",
      "1875/1875 [==============================] - 8s 4ms/step - loss: 0.0412 - accuracy: 0.9874\n",
      "Epoch 4/5\n",
      "1875/1875 [==============================] - 8s 4ms/step - loss: 0.0291 - accuracy: 0.9910\n",
      "Epoch 5/5\n",
      "1875/1875 [==============================] - 9s 5ms/step - loss: 0.0214 - accuracy: 0.9934\n",
      "313/313 [==============================] - 1s 2ms/step - loss: 0.0527 - accuracy: 0.9847\n",
      "Test Loss: 0.052692003548145294\n",
      "Test Accuracy: 0.9847000241279602\n",
      "(None, 28, 28, 1)\n"
     ]
    }
   ],
   "source": [
    "# Train model \n",
    "digit_recognition_model.compile(optimizer='adam', loss='sparse_categorical_crossentropy', metrics=['accuracy'])\n",
    "\n",
    "# 15 epochs is near ideal for MNIST dataset\n",
    "digit_recognition_model.fit(x_train, y_train, epochs=5)\n",
    "\n",
    "test_loss, test_accuracy = digit_recognition_model.evaluate(x_test, y_test)\n",
    "\n",
    "digit_recognition_model.save(\"trained_digit_model.h5\")\n",
    "\n",
    "print('Test Loss:', test_loss)\n",
    "print('Test Accuracy:', test_accuracy)\n",
    "print(digit_recognition_model.input_shape)"
   ]
  },
  {
   "cell_type": "markdown",
   "id": "d7ccfc07",
   "metadata": {},
   "source": [
    "Now, let's try running our model on the following example digit image:"
   ]
  },
  {
   "attachments": {
    "digit2.jpg": {
     "image/jpeg": "[encoded data removed]"
    }
   },
   "cell_type": "markdown",
   "id": "aa105663",
   "metadata": {},
   "source": [
    "![digit2.jpg](attachment:digit2.jpg)"
   ]
  },
  {
   "cell_type": "code",
   "execution_count": 6,
   "id": "8a935234",
   "metadata": {},
   "outputs": [
    {
     "name": "stdout",
     "output_type": "stream",
     "text": [
      "(28, 28)\n"
     ]
    }
   ],
   "source": [
    "ex_img = cv2.imread('img_1.jpg')\n",
    "ex_img = cv2.cvtColor(ex_img, cv2.COLOR_BGR2GRAY)\n",
    "print (ex_img.shape)\n",
    "\n",
    "ex_img = ex_img.reshape(1, 28, 28)"
   ]
  },
  {
   "cell_type": "code",
   "execution_count": 8,
   "id": "5e57d5ca",
   "metadata": {},
   "outputs": [
    {
     "name": "stdout",
     "output_type": "stream",
     "text": [
      "1/1 [==============================] - 0s 15ms/step\n",
      "[[0. 0. 1. 0. 0. 0. 0. 0. 0. 0.]]\n",
      "Classified digit is: 2\n"
     ]
    }
   ],
   "source": [
    "digit_probabilities = digit_recognition_model.predict(ex_img)\n",
    "\n",
    "print(digit_probabilities)\n",
    "\n",
    "digit = np.argmax(digit_probabilities)\n",
    "\n",
    "print(\"Classified digit is: \" + str(digit))\n"
   ]
  },
  {
   "cell_type": "code",
   "execution_count": null,
   "id": "ddd8f64c",
   "metadata": {},
   "outputs": [],
   "source": []
  }
 ],
 "metadata": {
  "kernelspec": {
   "display_name": "Python 3 (ipykernel)",
   "language": "python",
   "name": "python3"
  },
  "language_info": {
   "codemirror_mode": {
    "name": "ipython",
    "version": 3
   },
   "file_extension": ".py",
   "mimetype": "text/x-python",
   "name": "python",
   "nbconvert_exporter": "python",
   "pygments_lexer": "ipython3",
   "version": "3.9.13"
  }
 },
 "nbformat": 4,
 "nbformat_minor": 5
}
